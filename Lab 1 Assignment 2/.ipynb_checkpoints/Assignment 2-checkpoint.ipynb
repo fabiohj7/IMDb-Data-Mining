{
 "cells": [
  {
   "cell_type": "code",
   "execution_count": 11,
   "id": "ed1d4f4a-c574-4b67-b2ff-738a88c6d847",
   "metadata": {
    "tags": []
   },
   "outputs": [
    {
     "name": "stdout",
     "output_type": "stream",
     "text": [
      "Similarities between 11000 and 11001\n",
      "Simple matching: 0.25\n",
      "Extended Jaccard: 0.75\n",
      "Cosine: 0.9996178177253329\n",
      "\n",
      "Similarities between 11000 and 11012\n",
      "Simple matching: 0.25\n",
      "Extended Jaccard: 0.5\n",
      "Cosine: 0.9988883234689685\n"
     ]
    }
   ],
   "source": [
    "import numpy as np\n",
    "import pandas as pd\n",
    "\n",
    "def simple_matching(v1, v2):\n",
    "    matching = np.sum(v1 == v2)\n",
    "    \n",
    "    similarity = matching / len(v1)\n",
    "    return similarity\n",
    "\n",
    "def extended_jaccard(v1, v2): \n",
    "    intersection = np.sum(np.logical_and(v1, v2))\n",
    "    union = np.sum(np.logical_or(v1, v2))\n",
    "    \n",
    "    similarity = intersection / union\n",
    "    return similarity\n",
    "\n",
    "def cosine(v1, v2):\n",
    "    dot_product = np.dot(v1, v2)\n",
    "    \n",
    "    # Compute Euclidean lengths\n",
    "    norm1 = np.linalg.norm(v1) \n",
    "    norm2 = np.linalg.norm(v2)\n",
    "    \n",
    "    similarity = dot_product / (norm1 * norm2)\n",
    "    return similarity\n",
    "\n",
    "data = pd.read_csv('preprocessed_data.csv')\n",
    "\n",
    "numerical = data.select_dtypes(include=['int', 'float']).columns.tolist()\n",
    "\n",
    "data = data[numerical]\n",
    "\n",
    "vector_11000 = data[data['CustomerKey'] == 11000].drop(columns=['CustomerKey']).values.flatten()\n",
    "vector_11001 = data[data['CustomerKey'] == 11001].drop(columns=['CustomerKey']).values.flatten()\n",
    "vector_11012 = data[data['CustomerKey'] == 11012].drop(columns=['CustomerKey']).values.flatten()\n",
    "\n",
    "\n",
    "sim_simple_matching = simple_matching(vector_11000, vector_11001)\n",
    "sim_ej = extended_jaccard(vector_11000, vector_11001)\n",
    "sim_cosine = cosine(vector_11000, vector_11001)\n",
    "\n",
    "print(\"Similarities between 11000 and 11001\")\n",
    "print(\"Simple matching:\", sim_simple_matching)\n",
    "print(\"Extended Jaccard:\", sim_ej)\n",
    "print(\"Cosine:\", sim_cosine)\n",
    "\n",
    "sim_simple_matching = simple_matching(vector_11000, vector_11012)\n",
    "sim_ej = extended_jaccard(vector_11000, vector_11012)\n",
    "sim_cosine = cosine(vector_11000, vector_11012)\n",
    "\n",
    "print(\"\\nSimilarities between 11000 and 11012\")\n",
    "print(\"Simple matching:\", sim_simple_matching)\n",
    "print(\"Extended Jaccard:\", sim_ej)\n",
    "print(\"Cosine:\", sim_cosine)"
   ]
  },
  {
   "cell_type": "code",
   "execution_count": null,
   "id": "2edc4cd1-876e-4678-b800-73bddb35acc5",
   "metadata": {},
   "outputs": [],
   "source": []
  }
 ],
 "metadata": {
  "kernelspec": {
   "display_name": "Python 3 (ipykernel)",
   "language": "python",
   "name": "python3"
  },
  "language_info": {
   "codemirror_mode": {
    "name": "ipython",
    "version": 3
   },
   "file_extension": ".py",
   "mimetype": "text/x-python",
   "name": "python",
   "nbconvert_exporter": "python",
   "pygments_lexer": "ipython3",
   "version": "3.11.5"
  }
 },
 "nbformat": 4,
 "nbformat_minor": 5
}
